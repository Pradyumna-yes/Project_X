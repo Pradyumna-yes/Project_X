{
  "nbformat": 4,
  "nbformat_minor": 0,
  "metadata": {
    "colab": {
      "provenance": [],
      "include_colab_link": true
    },
    "kernelspec": {
      "name": "python3",
      "display_name": "Python 3"
    },
    "language_info": {
      "name": "python"
    }
  },
  "cells": [
    {
      "cell_type": "markdown",
      "metadata": {
        "id": "view-in-github",
        "colab_type": "text"
      },
      "source": [
        "<a href=\"https://colab.research.google.com/github/Pradyumna-yes/Project_X/blob/main/ETL.ipynb\" target=\"_parent\"><img src=\"https://colab.research.google.com/assets/colab-badge.svg\" alt=\"Open In Colab\"/></a>"
      ]
    },
    {
      "cell_type": "code",
      "execution_count": null,
      "metadata": {
        "colab": {
          "base_uri": "https://localhost:8080/"
        },
        "id": "vENaYh7bu8wt",
        "outputId": "3d99ce5b-0906-4d00-f8a1-7deb525e3e44"
      },
      "outputs": [
        {
          "output_type": "stream",
          "name": "stdout",
          "text": [
            "Requirement already satisfied: requests in /usr/local/lib/python3.10/dist-packages (2.31.0)\n",
            "Requirement already satisfied: charset-normalizer<4,>=2 in /usr/local/lib/python3.10/dist-packages (from requests) (3.3.2)\n",
            "Requirement already satisfied: idna<4,>=2.5 in /usr/local/lib/python3.10/dist-packages (from requests) (3.6)\n",
            "Requirement already satisfied: urllib3<3,>=1.21.1 in /usr/local/lib/python3.10/dist-packages (from requests) (2.0.7)\n",
            "Requirement already satisfied: certifi>=2017.4.17 in /usr/local/lib/python3.10/dist-packages (from requests) (2024.2.2)\n"
          ]
        }
      ],
      "source": [
        "pip install requests"
      ]
    },
    {
      "cell_type": "code",
      "source": [
        "from google.colab import drive\n",
        "drive.mount('/content/drive')"
      ],
      "metadata": {
        "colab": {
          "base_uri": "https://localhost:8080/"
        },
        "id": "4T4MTuCppZzF",
        "outputId": "9153418f-76ca-460e-b7f3-793ca143807a"
      },
      "execution_count": null,
      "outputs": [
        {
          "output_type": "stream",
          "name": "stdout",
          "text": [
            "Mounted at /content/drive\n"
          ]
        }
      ]
    },
    {
      "cell_type": "code",
      "source": [
        "#!/usr/bin/env python3\n",
        "import requests\n",
        "import csv\n",
        "from datetime import datetime\n",
        "import pytz\n",
        "\n",
        "# Replace 'your_api_key_here' with your actual JCDecaux API key.\n",
        "API_KEY = 'e42659b6b45ae7dd9ca5cfc3674528e84a28e254'\n",
        "\n",
        "def fetch_data(api_key):\n",
        "    api_url = \"https://api.jcdecaux.com/vls/v1/stations\"\n",
        "    contract = \"dublin\"\n",
        "\n",
        "    full_url = f\"{api_url}?contract={contract}&apiKey={api_key}\"\n",
        "\n",
        "    try:\n",
        "        response = requests.get(full_url)\n",
        "        if response.status_code == 200:\n",
        "            return response.json()\n",
        "        else:\n",
        "            print(f\"Failed to fetch data. Status code: {response.status_code}\")\n",
        "            return None\n",
        "    except Exception as e:\n",
        "        print(f\"An error occurred: {e}\")\n",
        "        return None\n",
        "\n",
        "def convert_epoch_to_readable(epoch_time):\n",
        "    # Assuming the epoch time is in milliseconds\n",
        "    return datetime.fromtimestamp(epoch_time / 1000, pytz.timezone('Europe/Dublin')).strftime('%Y-%m-%d %H:%M:%S')\n",
        "\n",
        "def save_to_csv(data, filename):\n",
        "    if data:\n",
        "        field_names = [\"number\", \"name\", \"address\", \"position\", \"banking\", \"bonus\", \"status\", \"contract_name\", \"bike_stands\", \"available_bike_stands\", \"available_bikes\", \"last_update\"]\n",
        "\n",
        "        try:\n",
        "            with open(filename, mode='w', newline='', encoding='utf-8') as file:\n",
        "                writer = csv.DictWriter(file, fieldnames=field_names)\n",
        "                writer.writeheader()\n",
        "                for station in data:\n",
        "                    # Convert the last_update field to a readable format\n",
        "                    station['last_update'] = convert_epoch_to_readable(station['last_update'])\n",
        "                    writer.writerow(station)\n",
        "            print(f\"Data saved to {filename} successfully!\")\n",
        "        except Exception as e:\n",
        "            print(f\"Error occurred while writing to CSV: {e}\")\n",
        "    else:\n",
        "        print(\"No data to save.\")\n",
        "\n",
        "def main():\n",
        "    data = fetch_data(API_KEY)\n",
        "    save_to_csv(data, \"stations_data.csv\")\n",
        "\n",
        "if __name__ == \"__main__\":\n",
        "    main()\n"
      ],
      "metadata": {
        "colab": {
          "base_uri": "https://localhost:8080/"
        },
        "id": "gBsXhRVMv1Fb",
        "outputId": "80e29b21-b24d-47db-f796-7792f888f03a"
      },
      "execution_count": null,
      "outputs": [
        {
          "output_type": "stream",
          "name": "stdout",
          "text": [
            "Data saved to stations_data.csv successfully!\n"
          ]
        }
      ]
    },
    {
      "cell_type": "markdown",
      "source": [
        "Test SQl"
      ],
      "metadata": {
        "id": "vdmXxVCk2kei"
      }
    },
    {
      "cell_type": "code",
      "source": [
        "pip install pymysql"
      ],
      "metadata": {
        "colab": {
          "base_uri": "https://localhost:8080/"
        },
        "id": "DUh2izDBhstT",
        "outputId": "a41b8266-d0c3-4019-8b8f-fb8fe423853c"
      },
      "execution_count": null,
      "outputs": [
        {
          "output_type": "stream",
          "name": "stdout",
          "text": [
            "Collecting pymysql\n",
            "  Downloading PyMySQL-1.1.0-py3-none-any.whl (44 kB)\n",
            "\u001b[2K     \u001b[90m━━━━━━━━━━━━━━━━━━━━━━━━━━━━━━━━━━━━━━━━\u001b[0m \u001b[32m44.8/44.8 kB\u001b[0m \u001b[31m1.0 MB/s\u001b[0m eta \u001b[36m0:00:00\u001b[0m\n",
            "\u001b[?25hInstalling collected packages: pymysql\n",
            "Successfully installed pymysql-1.1.0\n"
          ]
        }
      ]
    },
    {
      "cell_type": "code",
      "source": [
        "import pymysql\n",
        "\n",
        "# Database connection details\n",
        "host = '140.238.244.101'\n",
        "user = 'root'\n",
        "password = '1lnli9uELkeWC7GfUQF01an3Yevq7wXbpkM7vskAyMI652tRhUnin4e8gD4DUOjy'\n",
        "db = 'Project_X'\n",
        "\n",
        "# Initialize connection to None\n",
        "connection = None\n",
        "\n",
        "try:\n",
        "    # Attempt to establish a connection\n",
        "    connection = pymysql.connect(host=host, user=user, password=password, db=db)\n",
        "\n",
        "    # Create a cursor object using the cursor() method\n",
        "    cursor = connection.cursor()\n",
        "\n",
        "    # Execute SQL query using execute() method.\n",
        "    cursor.execute(\"SELECT VERSION()\")\n",
        "\n",
        "    # Fetch a single row using fetchone() method.\n",
        "    data = cursor.fetchone()\n",
        "    print(f\"Database version : {data}\")\n",
        "\n",
        "    # Success message\n",
        "    print(\"Connected successfully to the database.\")\n",
        "\n",
        "except pymysql.MySQLError as e:\n",
        "    print(f\"Error connecting to the MySQL database: {e}\")\n",
        "\n",
        "finally:\n",
        "    # Ensure that the connection is closed even if an error occurs\n",
        "    if connection:\n",
        "        connection.close()\n"
      ],
      "metadata": {
        "id": "R4WSj5yh2j30",
        "colab": {
          "base_uri": "https://localhost:8080/"
        },
        "outputId": "c4de9753-54e6-4469-88f7-3effae01c91a"
      },
      "execution_count": null,
      "outputs": [
        {
          "output_type": "stream",
          "name": "stdout",
          "text": [
            "Database version : ('8.3.0',)\n",
            "Connected successfully to the database.\n"
          ]
        }
      ]
    },
    {
      "cell_type": "code",
      "source": [
        "pip install mysql"
      ],
      "metadata": {
        "id": "e9JmrmhqP9RT"
      },
      "execution_count": null,
      "outputs": []
    },
    {
      "cell_type": "code",
      "source": [
        "#!/usr/bin/env python3\n",
        "import requests\n",
        "import mysql.connector\n",
        "from datetime import datetime\n",
        "import pytz\n",
        "\n",
        "API_KEY = 'e42659b6b45ae7dd9ca5cfc3674528e84a28e254'\n",
        "\n",
        "def fetch_data(api_key):\n",
        "    api_url = \"https://api.jcdecaux.com/vls/v1/stations\"\n",
        "    contract = \"dublin\"\n",
        "    full_url = f\"{api_url}?contract={contract}&apiKey={api_key}\"\n",
        "\n",
        "    try:\n",
        "        response = requests.get(full_url)\n",
        "        if response.status_code == 200:\n",
        "            return response.json()\n",
        "        else:\n",
        "            print(f\"Failed to fetch data. Status code: {response.status_code}\")\n",
        "            return None\n",
        "    except Exception as e:\n",
        "        print(f\"An error occurred: {e}\")\n",
        "        return None\n",
        "\n",
        "def connect_to_database(host, database, user, password):\n",
        "    try:\n",
        "        conn = mysql.connector.connect(\n",
        "            host=host,\n",
        "            user=user,\n",
        "            password=password,\n",
        "            database=database\n",
        "        )\n",
        "        return conn\n",
        "    except mysql.connector.Error as e:\n",
        "        print(f\"Error connecting to MySQL Database: {e}\")\n",
        "        return None\n",
        "\n",
        "def insert_data_to_db(conn, data):\n",
        "    if conn is not None and data is not None:\n",
        "        cursor = conn.cursor()\n",
        "        insert_query = \"\"\"\n",
        "        INSERT INTO stations (number, name, address, position_lat, position_lng, banking, bonus, status, contract_name, bike_stands, available_bike_stands, available_bikes, last_update)\n",
        "        VALUES (%s, %s, %s, %s, %s, %s, %s, %s, %s, %s, %s, %s, %s)\n",
        "        \"\"\"\n",
        "\n",
        "        for station in data:\n",
        "            last_update = datetime.fromtimestamp(station['last_update'] / 1000, pytz.timezone('Europe/Dublin'))\n",
        "            values = (\n",
        "                station['number'], station['name'], station['address'],\n",
        "                station['position']['lat'], station['position']['lng'],\n",
        "                station['banking'], station['bonus'], station['status'],\n",
        "                station['contract_name'], station['bike_stands'],\n",
        "                station['available_bike_stands'], station['available_bikes'],\n",
        "                last_update\n",
        "            )\n",
        "            try:\n",
        "                cursor.execute(insert_query, values)\n",
        "            except mysql.connector.Error as e:\n",
        "                print(f\"Error inserting data: {e}\")\n",
        "\n",
        "        conn.commit()\n",
        "        cursor.close()\n",
        "        print(\"Data inserted successfully.\")\n",
        "    else:\n",
        "        print(\"No data to insert or database connection is not established.\")\n",
        "\n",
        "def main():\n",
        "    data = fetch_data(API_KEY)\n",
        "    conn = connect_to_database('140.238.244.101', 'Project_X', 'root', '1lnli9uELkeWC7GfUQF01an3Yevq7wXbpkM7vskAyMI652tRhUnin4e8gD4DUOjy')\n",
        "    insert_data_to_db(conn, data)\n",
        "    if conn is not None:\n",
        "        conn.close()\n",
        "\n",
        "if _name_ == \"_main_\":\n",
        "  main()\n"
      ],
      "metadata": {
        "colab": {
          "base_uri": "https://localhost:8080/",
          "height": 384
        },
        "id": "cnK2M81nufOq",
        "outputId": "8d0140a7-430e-42f9-80d5-679a2b8f5d1a"
      },
      "execution_count": null,
      "outputs": [
        {
          "output_type": "error",
          "ename": "ModuleNotFoundError",
          "evalue": "No module named 'mysql'",
          "traceback": [
            "\u001b[0;31m---------------------------------------------------------------------------\u001b[0m",
            "\u001b[0;31mModuleNotFoundError\u001b[0m                       Traceback (most recent call last)",
            "\u001b[0;32m<ipython-input-9-48fdd146d719>\u001b[0m in \u001b[0;36m<cell line: 3>\u001b[0;34m()\u001b[0m\n\u001b[1;32m      1\u001b[0m \u001b[0;31m#!/usr/bin/env python3\u001b[0m\u001b[0;34m\u001b[0m\u001b[0;34m\u001b[0m\u001b[0m\n\u001b[1;32m      2\u001b[0m \u001b[0;32mimport\u001b[0m \u001b[0mrequests\u001b[0m\u001b[0;34m\u001b[0m\u001b[0;34m\u001b[0m\u001b[0m\n\u001b[0;32m----> 3\u001b[0;31m \u001b[0;32mimport\u001b[0m \u001b[0mmysql\u001b[0m\u001b[0;34m.\u001b[0m\u001b[0mconnector\u001b[0m\u001b[0;34m\u001b[0m\u001b[0;34m\u001b[0m\u001b[0m\n\u001b[0m\u001b[1;32m      4\u001b[0m \u001b[0;32mfrom\u001b[0m \u001b[0mdatetime\u001b[0m \u001b[0;32mimport\u001b[0m \u001b[0mdatetime\u001b[0m\u001b[0;34m\u001b[0m\u001b[0;34m\u001b[0m\u001b[0m\n\u001b[1;32m      5\u001b[0m \u001b[0;32mimport\u001b[0m \u001b[0mpytz\u001b[0m\u001b[0;34m\u001b[0m\u001b[0;34m\u001b[0m\u001b[0m\n",
            "\u001b[0;31mModuleNotFoundError\u001b[0m: No module named 'mysql'",
            "",
            "\u001b[0;31m---------------------------------------------------------------------------\u001b[0;32m\nNOTE: If your import is failing due to a missing package, you can\nmanually install dependencies using either !pip or !apt.\n\nTo view examples of installing some common dependencies, click the\n\"Open Examples\" button below.\n\u001b[0;31m---------------------------------------------------------------------------\u001b[0m\n"
          ],
          "errorDetails": {
            "actions": [
              {
                "action": "open_url",
                "actionText": "Open Examples",
                "url": "/notebooks/snippets/importing_libraries.ipynb"
              }
            ]
          }
        }
      ]
    },
    {
      "cell_type": "markdown",
      "source": [
        "# New Section"
      ],
      "metadata": {
        "id": "R6WAll9Q2p8N"
      }
    }
  ]
}